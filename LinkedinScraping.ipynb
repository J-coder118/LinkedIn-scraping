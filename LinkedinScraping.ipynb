{
 "cells": [
  {
   "cell_type": "code",
   "execution_count": null,
   "id": "d9487ac5-f733-4617-a831-854a3cf8c366",
   "metadata": {},
   "outputs": [],
   "source": [
    "#pip install gspread\n",
    "#pip install gspread-dataframe\n",
    "#pip install google\n",
    "#pip install pydrive\n",
    "#%pip install selenium\n",
    "#pip install pydrive2"
   ]
  },
  {
   "cell_type": "code",
   "execution_count": null,
   "id": "47949a6d-67a7-4f0f-9c73-436eded8751a",
   "metadata": {},
   "outputs": [],
   "source": [
    "from selenium import webdriver\n",
    "from selenium.webdriver.chrome.service import Service\n",
    "from selenium.webdriver.common.by import By\n",
    "from selenium.webdriver.support.ui import WebDriverWait\n",
    "from selenium.webdriver.support import expected_conditions as EC\n",
    "from datetime import date\n",
    "from bs4 import BeautifulSoup\n",
    "import time\n",
    "import requests\n",
    "import pandas as pd\n",
    "import numpy as np\n",
    "import os\n",
    "import gspread\n",
    "from gspread_dataframe import set_with_dataframe\n",
    "from google.oauth2.service_account import Credentials\n",
    "from pydrive2.auth import GoogleAuth\n",
    "from pydrive2.drive import GoogleDrive"
   ]
  },
  {
   "cell_type": "code",
   "execution_count": null,
   "id": "451cf043-d91a-46ef-86e0-e9ada85c1fe3",
   "metadata": {},
   "outputs": [],
   "source": [
    "scopes = ['https://www.googleapis.com/auth/spreadsheets',\n",
    "'https://www.googleapis.com/auth/drive']\n",
    "credentials = Credentials.from_service_account_file('your path go here')\n",
    "gc = gspread.authorize(credentials)\n",
    "gauth = GoogleAuth()\n",
    "drive = GoogleDrive(gauth)\n",
    "# open a google sheet\n",
    "gs = gc.open_by_url('https://docs.google.com/spreadsheets/d/1b06QOCAlYdmRKyW2sp1wGI-I_nU1iilteJPS5lR094c/edit#gid=1100797668')\n",
    "# select a work sheet from its name\n",
    "worksheet1 = gs.worksheet('Linkedin_Jobdata')"
   ]
  },
  {
   "cell_type": "code",
   "execution_count": null,
   "id": "e3d1a7e3-1950-445c-9028-5d7a520988e2",
   "metadata": {},
   "outputs": [],
   "source": [
    "#Website\n",
    "url =' https://ca.linkedin.com/jobs/search?keywords=Data%20Analyst&location=Canada&locationId=&geoId=101174742&f_TPR=r86400&position=1&pageNum=0'\n",
    "#Get the url\n",
    "s = Service('Your path go here')\n",
    "driver = webdriver.Chrome(service=s)\n",
    "driver.get(url)\n",
    "driver.maximize_window()\n",
    "time.sleep(15)"
   ]
  },
  {
   "cell_type": "code",
   "execution_count": null,
   "id": "b265a7b3-1fe6-44af-a240-9dd0825b8643",
   "metadata": {},
   "outputs": [],
   "source": [
    "#Get scroll Height\n",
    "CLICK_PAUSE_TIME = 10\n",
    "last_height = driver.execute_script(\"return document.body.scrollHeight\")"
   ]
  },
  {
   "cell_type": "code",
   "execution_count": null,
   "id": "0ae61147-f773-4dfe-b1c0-5e8cd94917a6",
   "metadata": {},
   "outputs": [],
   "source": [
    "#Scrolling the page til seeing see more\n",
    "while True:\n",
    "    # Scroll down to bottom\n",
    "    driver.execute_script(\"window.scrollTo(0, document.body.scrollHeight)\")\n",
    "    # Wait to load page - Do not open tab as it will affect the scrollingHeight\n",
    "    time.sleep(5)\n",
    "    # Calculate new scroll height and compare with last scroll height\n",
    "    new_height = driver.execute_script(\"return document.body.scrollHeight\")\n",
    "    print= new_height\n",
    "    if new_height == last_height:\n",
    "    break\n",
    "    last_height = new_height"
   ]
  },
  {
   "cell_type": "code",
   "execution_count": null,
   "id": "25a79cc4-53cb-4a2e-8c66-5faafd59338d",
   "metadata": {},
   "outputs": [],
   "source": [
    "#Clicking see more til no more new input\n",
    "while True:\n",
    "try:\n",
    "element = WebDriverWait(driver,CLICK_PAUSE_TIME).until(EC.element_to_be_clicka\n",
    "driver.execute_script(\"arguments[0].click();\", element)\n",
    "except Exception as e:\n",
    "pass\n",
    "time.sleep(5)\n",
    "new_height = driver.execute_script(\"return document.body.scrollHeight\")\n",
    "if new_height == last_height:\n",
    "break\n",
    "last_height = new_height"
   ]
  },
  {
   "cell_type": "code",
   "execution_count": null,
   "id": "fade325b-5c85-4042-9ed2-5ab0f8d0a73a",
   "metadata": {},
   "outputs": [],
   "source": [
    "#find all elements with posting id using xpath putting everthing to list (if XPATH li[\n",
    "job_lists = driver.find_elements(By.XPATH,\"//*[@id='main-content']/section[2]/ul/li\")\n",
    "len(job_lists)"
   ]
  },
  {
   "cell_type": "code",
   "execution_count": null,
   "id": "7256a10c-6cd5-405f-a59b-c9267aca05d7",
   "metadata": {},
   "outputs": [],
   "source": [
    "#Retrieve the job ID, title, company_name, location, last_update, job_link information\n",
    "#Procedure we find the Parent element (usually through XPATH link), retrieve a list, then looping through to find all the information\n",
    "#through other locator (CSS_SELECTOR,CLASS_NAME)\n",
    "job_title_list = []\n",
    "company_name_list = []\n",
    "location_list =[]\n",
    "date_time_list=[]\n",
    "job_link_list = []\n",
    "\n",
    "for job in job_lists:\n",
    "    job_title = None\n",
    "    company_name = None\n",
    "    date_time = None\n",
    "    job_link = None\n",
    "    \n",
    "    try:\n",
    "        job_title = job.find_element(By.CSS_SELECTOR,'h3').get_attribute('innerText')\n",
    "        company_name = job.find_element(By.CSS_SELECTOR,'h4').get_attribute('innerText\n",
    "        location = job.find_element(By.CLASS_NAME,'job-search-card__location').get_att\n",
    "        date_time = job.find_element(By.CSS_SELECTOR,'time').get_attribute(\"datetime\")\n",
    "        job_link = job.find_element(By.CSS_SELECTOR,\"a\").get_attribute(\"href\")\n",
    "    except Exeception as e:\n",
    "        pass\n",
    "    job_title_list.append(job_title)\n",
    "    company_name_list.append(company_name)\n",
    "    location_list.append(location)\n",
    "    date_time_list.append(date_time)\n",
    "    job_link_list.append(job_link)"
   ]
  },
  {
   "cell_type": "code",
   "execution_count": null,
   "id": "ff8f8d9a-5aeb-4640-b80e-cb1b8e34e731",
   "metadata": {},
   "outputs": [],
   "source": [
    "#Create Dataframe\n",
    "job_data = pd.DataFrame({'ID': job_id_list,\n",
    "'Last_Posting_Date': date_time_list,\n",
    "'Company': company_name_list,\n",
    "'Title': job_title_list,\n",
    "'Location': location_list,\n",
    "'Description': jd_list,\n",
    "'Level': seniority_list,\n",
    "'Type': emp_type_list,\n",
    "'Function': job_func_list,\n",
    "'Industry': industries_list,\n",
    "'Link': job_link_list\n",
    "})                         "
   ]
  },
  {
   "cell_type": "code",
   "execution_count": null,
   "id": "d9782dd2-abf3-4a41-b410-c52bae5323a7",
   "metadata": {},
   "outputs": [],
   "source": [
    "#Clearing job with duplicate id\n",
    "# cleaning description column\n",
    "job_data['Description'] = job_data['Description'].str.replace(\"Show more\",\"\")\n",
    "job_data= job_data.replace('\\n',\" \", regex = True)"
   ]
  },
  {
   "cell_type": "code",
   "execution_count": null,
   "id": "eb3196ef-0a43-4819-bfb1-1615757291bd",
   "metadata": {},
   "outputs": [],
   "source": [
    "#moving some full time value from seniority to type\n",
    "for x in range(len(job_data)):\n",
    "if job_data['Level'][x] in [\"Full-time\",\"Contract\",\"Other\",\"Part-time\",\"Temporary\")\n",
    "job_data['Type'][x] = job_data['Level'][x]\n",
    "job_data['Level'][x] = None"
   ]
  },
  {
   "cell_type": "code",
   "execution_count": null,
   "id": "f5f418ba-1b32-46d0-b421-8940098a67b5",
   "metadata": {},
   "outputs": [],
   "source": [
    "#extract to csv - write header to\n",
    "output_path = 'your path'\n",
    "#write more data to the existing csv.\n",
    "job_data.to_csv(output_path, mode ='a', index = False, header = not os.path.exists(output_path)) #if the file exist then does not include header, if not include header"
   ]
  },
  {
   "cell_type": "code",
   "execution_count": null,
   "id": "60543090-3ca3-4ebc-b304-394ac86dcc74",
   "metadata": {},
   "outputs": [],
   "source": [
    "#Write Data to GGSheet\n",
    "# write to dataframe - for first time inputting to sheet\n",
    "#set_with_dataframe(worksheet=worksheet1, dataframe=job_data, include_index=False,\n",
    "#include_column_header=True, resize=True)\n",
    "jobdata_value_list = job_data.values.tolist()\n",
    "gs.values_append('Linkedin_Jobdata', {'valueInputOption': 'USER_ENTERED'}, {'values': jobdata_value_list})"
   ]
  }
 ],
 "metadata": {
  "kernelspec": {
   "display_name": "Python 3 (ipykernel)",
   "language": "python",
   "name": "python3"
  },
  "language_info": {
   "codemirror_mode": {
    "name": "ipython",
    "version": 3
   },
   "file_extension": ".py",
   "mimetype": "text/x-python",
   "name": "python",
   "nbconvert_exporter": "python",
   "pygments_lexer": "ipython3",
   "version": "3.9.13"
  }
 },
 "nbformat": 4,
 "nbformat_minor": 5
}
